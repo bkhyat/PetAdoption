{
 "cells": [
  {
   "cell_type": "code",
   "execution_count": 93,
   "metadata": {},
   "outputs": [],
   "source": [
    "import pandas as pd\n",
    "import numpy as np\n",
    "import matplotlib.pyplot as plt\n",
    "import seaborn as sn\n",
    "%matplotlib inline\n",
    "\n",
    "train_data = pd.read_csv('Dataset/train.csv', index_col='pet_id')\n",
    "test_data = pd.read_csv('Dataset/test.csv', index_col='pet_id')"
   ]
  },
  {
   "cell_type": "code",
   "execution_count": 92,
   "metadata": {},
   "outputs": [
    {
     "data": {
      "text/plain": [
       "1477"
      ]
     },
     "execution_count": 92,
     "metadata": {},
     "output_type": "execute_result"
    }
   ],
   "source": [
    "sum(train_data.condition.isnull())"
   ]
  },
  {
   "cell_type": "code",
   "execution_count": 106,
   "metadata": {},
   "outputs": [],
   "source": [
    "from sklearn.preprocessing import LabelEncoder\n",
    "\n",
    "\n",
    "np.random.seed(42)\n",
    "encoder = LabelEncoder()\n",
    "\n",
    "train_data['color_type_encoded'] = encoder.fit(train_data.color_type)\n",
    "def preprocess(data):\n",
    "\n",
    "    data['color_type_encoded'] = encoder.transform(data.color_type)\n",
    "    \n",
    "    data_condition=np.random.choice(np.arange(0, 3), p=[6281/17357,6819/17357,4257/17357], size=sum(data.condition.isnull()))\n",
    "    data['condition_filled'] = 0\n",
    "    data.loc[data.condition.isnull(), 'condition_filled'] = 1\n",
    "    data.loc[data.condition.isnull(), 'condition'] = data_condition\n",
    "\n",
    "    data['issue_date'] = pd.to_datetime(data.issue_date)\n",
    "    data['listing_date'] = pd.to_datetime(data.listing_date)\n",
    "\n",
    "    data['issue_year'] = data.issue_date.dt.year\n",
    "    data['issue_month'] = data.issue_date.dt.month\n",
    "    data['issue_day'] = data.issue_date.dt.day\n",
    "\n",
    "    data['listing_year'] = data.listing_date.dt.year\n",
    "    data['listing_month'] = data.listing_date.dt.month\n",
    "    data['listing_day'] = data.listing_date.dt.day\n",
    "\n",
    "    data['total_days'] = np.array(data.listing_date-data.issue_date).astype('timedelta64[D]').astype('int64')\n",
    "    \n",
    "    data['length(cm)'] = data['length(m)']*100\n",
    "    data['rec_area'] = data['length(cm)'] * data['height(cm)']\n",
    "    \n",
    "    \n",
    "    return data  #sort_values(by='issue_date')"
   ]
  },
  {
   "cell_type": "code",
   "execution_count": 107,
   "metadata": {},
   "outputs": [],
   "source": [
    "train_data = preprocess(train_data)\n",
    "test_data = preprocess(test_data)"
   ]
  },
  {
   "cell_type": "code",
   "execution_count": 96,
   "metadata": {
    "scrolled": true
   },
   "outputs": [],
   "source": [
    "condition_features = ['length(cm)', 'height(cm)','rec_area', 'X1', 'X2', 'color_type_encoded',\n",
    "           'issue_year', 'issue_month', 'issue_day', 'listing_year', 'listing_month', 'listing_day', 'total_days']\n",
    "y_condition = train_data.loc[train_data.condition.isnull()==False,'condition'].values\n",
    "X_condition = train_data.loc[train_data.condition.isnull()==False, condition_features].values"
   ]
  },
  {
   "cell_type": "code",
   "execution_count": 35,
   "metadata": {},
   "outputs": [
    {
     "data": {
      "text/plain": [
       "GradientBoostingClassifier(ccp_alpha=0.0, criterion='friedman_mse', init=None,\n",
       "                           learning_rate=0.1, loss='deviance', max_depth=3,\n",
       "                           max_features=None, max_leaf_nodes=None,\n",
       "                           min_impurity_decrease=0.0, min_impurity_split=None,\n",
       "                           min_samples_leaf=1, min_samples_split=2,\n",
       "                           min_weight_fraction_leaf=0.0, n_estimators=100,\n",
       "                           n_iter_no_change=None, presort='deprecated',\n",
       "                           random_state=13, subsample=1.0, tol=0.0001,\n",
       "                           validation_fraction=0.1, verbose=0,\n",
       "                           warm_start=False)"
      ]
     },
     "execution_count": 35,
     "metadata": {},
     "output_type": "execute_result"
    }
   ],
   "source": [
    "from sklearn.ensemble import GradientBoostingClassifier\n",
    "\n",
    "condition_clf = GradientBoostingClassifier(random_state=13)\n",
    "condition_clf.fit(X_condition, y_condition)"
   ]
  },
  {
   "cell_type": "code",
   "execution_count": 63,
   "metadata": {},
   "outputs": [],
   "source": [
    "train_condition_predicted = condition_clf.predict(train_data.loc[train_data.condition.isnull(), condition_features].values)"
   ]
  },
  {
   "cell_type": "code",
   "execution_count": 64,
   "metadata": {},
   "outputs": [],
   "source": [
    "test_condition_predicted = condition_clf.predict(test_data.loc[test_data.condition.isnull(), condition_features].values)"
   ]
  },
  {
   "cell_type": "code",
   "execution_count": 82,
   "metadata": {},
   "outputs": [],
   "source": [
    "train_data.loc[train_data.condition.isnull(),'condition'] = train_condition_predicted\n",
    "test_data.loc[test_data.condition.isnull(),'condition'] = test_condition_predicted"
   ]
  },
  {
   "cell_type": "code",
   "execution_count": 122,
   "metadata": {},
   "outputs": [],
   "source": [
    "features = ['condition', 'length(cm)', 'height(cm)','rec_area', 'X1', 'X2', 'color_type_encoded',\n",
    "           'issue_year', 'issue_month', 'issue_day', 'listing_year', 'listing_month', 'listing_day', 'total_days']\n",
    "\n",
    "\n",
    "X = train_data[features].values\n",
    "y_pet = train_data['pet_category'].values\n",
    "y_breed = train_data['breed_category']\n",
    "\n",
    "\n",
    "X_train = X[:int(np.round(X.shape[0]*0.5+1))]\n",
    "X_valid = X[int(np.round(X.shape[0]*0.5+1)):]\n",
    "\n",
    "y_pet_train = y_pet[:int(np.round(y_pet.shape[0]*0.5+1))]\n",
    "y_pet_valid = y_pet[int(np.round(y_pet.shape[0]*0.5+1)):]\n",
    "\n",
    "y_breed_train = y_breed[:int(np.round(y_breed.shape[0]*0.5+1))]\n",
    "y_breed_valid = y_breed[int(np.round(y_breed.shape[0]*0.5+1)):]\n",
    "\n",
    "assert ((X_train.shape[0]+X_valid.shape[0])==X.shape[0])&\\\n",
    "((y_pet_train.shape[0]+y_pet_valid.shape[0])==y_pet.shape[0])&\\\n",
    "((y_breed_train.shape[0]+y_breed_valid.shape[0])==y_breed.shape[0]),\\\n",
    "\"Error in train validation split\""
   ]
  },
  {
   "cell_type": "code",
   "execution_count": 123,
   "metadata": {},
   "outputs": [
    {
     "data": {
      "text/plain": [
       "0.8642735768903993"
      ]
     },
     "execution_count": 123,
     "metadata": {},
     "output_type": "execute_result"
    }
   ],
   "source": [
    "pet_gbt = GradientBoostingClassifier(random_state=13)\n",
    "pet_gbt.fit(X_train, y_pet_train).score(X_valid, y_pet_valid)\n",
    "\n",
    "#0.8690918746680828"
   ]
  },
  {
   "cell_type": "code",
   "execution_count": 124,
   "metadata": {},
   "outputs": [
    {
     "data": {
      "text/plain": [
       "0.8297578589634664"
      ]
     },
     "execution_count": 124,
     "metadata": {},
     "output_type": "execute_result"
    }
   ],
   "source": [
    "breed_gbt = GradientBoostingClassifier(random_state=13)\n",
    "breed_gbt.fit(X_train, y_breed_train).score(X_valid, y_breed_valid)\n",
    "\n",
    "#0.834306956983537"
   ]
  },
  {
   "cell_type": "code",
   "execution_count": 111,
   "metadata": {},
   "outputs": [],
   "source": [
    "from sklearn.ensemble import BaggingClassifier\n",
    "\n",
    "pet_bag = BaggingClassifier(random_state=13)\n",
    "breed_bag = BaggingClassifier(random_state=13)"
   ]
  },
  {
   "cell_type": "code",
   "execution_count": 125,
   "metadata": {},
   "outputs": [
    {
     "data": {
      "text/plain": [
       "0.8053313508920985"
      ]
     },
     "execution_count": 125,
     "metadata": {},
     "output_type": "execute_result"
    }
   ],
   "source": [
    "pet_bag.fit(X_train, y_pet_train).score(X_valid, y_pet_valid)\n",
    "\n",
    "#0.8300584174190122"
   ]
  },
  {
   "cell_type": "code",
   "execution_count": 126,
   "metadata": {},
   "outputs": [
    {
     "data": {
      "text/plain": [
       "0.824660152931181"
      ]
     },
     "execution_count": 126,
     "metadata": {},
     "output_type": "execute_result"
    }
   ],
   "source": [
    "breed_bag.fit(X_train, y_breed_train).score(X_valid, y_breed_valid)\n",
    "\n",
    "#0.8228890069038768"
   ]
  },
  {
   "cell_type": "code",
   "execution_count": 115,
   "metadata": {},
   "outputs": [],
   "source": [
    "from sklearn.ensemble import ExtraTreesClassifier\n",
    "\n",
    "pet_extra = ExtraTreesClassifier(random_state=13)\n",
    "breed_extra = ExtraTreesClassifier(random_state=13)"
   ]
  },
  {
   "cell_type": "code",
   "execution_count": 127,
   "metadata": {},
   "outputs": [
    {
     "data": {
      "text/plain": [
       "0.6983857264231096"
      ]
     },
     "execution_count": 127,
     "metadata": {},
     "output_type": "execute_result"
    }
   ],
   "source": [
    "pet_extra.fit(X_train, y_pet_train).score(X_valid, y_pet_valid)\n",
    "\n",
    "#0.7198619224641529"
   ]
  },
  {
   "cell_type": "code",
   "execution_count": 128,
   "metadata": {},
   "outputs": [
    {
     "data": {
      "text/plain": [
       "0.8046941376380629"
      ]
     },
     "execution_count": 128,
     "metadata": {},
     "output_type": "execute_result"
    }
   ],
   "source": [
    "breed_extra.fit(X_train, y_breed_train).score(X_valid, y_breed_valid)\n",
    "\n",
    "#0.7944768985661179"
   ]
  },
  {
   "cell_type": "code",
   "execution_count": 119,
   "metadata": {},
   "outputs": [],
   "source": [
    "from sklearn.ensemble import RandomForestClassifier\n",
    "\n",
    "pet_rf = RandomForestClassifier(random_state=13,n_jobs=4)\n",
    "breed_rf = RandomForestClassifier(random_state=13, n_jobs=4)"
   ]
  },
  {
   "cell_type": "code",
   "execution_count": 129,
   "metadata": {},
   "outputs": [
    {
     "data": {
      "text/plain": [
       "0.8196686491079015"
      ]
     },
     "execution_count": 129,
     "metadata": {},
     "output_type": "execute_result"
    }
   ],
   "source": [
    "pet_rf.fit(X_train, y_pet_train).score(X_valid, y_pet_valid)\n",
    "\n",
    "#0.8204992033988316"
   ]
  },
  {
   "cell_type": "code",
   "execution_count": 130,
   "metadata": {},
   "outputs": [
    {
     "data": {
      "text/plain": [
       "0.830607476635514"
      ]
     },
     "execution_count": 130,
     "metadata": {},
     "output_type": "execute_result"
    }
   ],
   "source": [
    "breed_rf.fit(X_train, y_breed_train).score(X_valid, y_breed_valid)\n",
    "\n",
    "#0.8263409453000531"
   ]
  },
  {
   "cell_type": "code",
   "execution_count": 133,
   "metadata": {},
   "outputs": [],
   "source": [
    "pet_final = np.column_stack([pet_gbt.predict(X_valid),\n",
    "                           pet_bag.predict(X_valid),\n",
    "                           pet_extra.predict(X_valid),\n",
    "                           pet_rf.predict(X_valid)])"
   ]
  },
  {
   "cell_type": "code",
   "execution_count": 136,
   "metadata": {},
   "outputs": [
    {
     "data": {
      "text/plain": [
       "SVC(C=1.0, break_ties=False, cache_size=200, class_weight=None, coef0=0.0,\n",
       "    decision_function_shape='ovr', degree=3, gamma='scale', kernel='rbf',\n",
       "    max_iter=-1, probability=False, random_state=None, shrinking=True,\n",
       "    tol=0.001, verbose=False)"
      ]
     },
     "execution_count": 136,
     "metadata": {},
     "output_type": "execute_result"
    }
   ],
   "source": [
    "from sklearn.svm import SVC\n",
    "\n",
    "pet_final_model = SVC()\n",
    "pet_final_model.fit(pet_final, y_pet_valid)"
   ]
  },
  {
   "cell_type": "code",
   "execution_count": 142,
   "metadata": {},
   "outputs": [],
   "source": [
    "pet_preds = np.column_stack([pet_gbt.predict(test_data[features].values),\n",
    "                           pet_bag.predict(test_data[features].values),\n",
    "                           pet_extra.predict(test_data[features].values),\n",
    "                           pet_rf.predict(test_data[features].values)])\n",
    "y_pet = final_model.predict(pet_preds)"
   ]
  },
  {
   "cell_type": "code",
   "execution_count": 154,
   "metadata": {},
   "outputs": [],
   "source": [
    "breed_final = np.column_stack([breed_gbt.predict(X_valid),\n",
    "                           breed_bag.predict(X_valid),\n",
    "                           breed_extra.predict(X_valid),\n",
    "                           breed_rf.predict(X_valid)])"
   ]
  },
  {
   "cell_type": "code",
   "execution_count": 155,
   "metadata": {},
   "outputs": [
    {
     "data": {
      "text/plain": [
       "SVC(C=1.0, break_ties=False, cache_size=200, class_weight=None, coef0=0.0,\n",
       "    decision_function_shape='ovr', degree=3, gamma='scale', kernel='rbf',\n",
       "    max_iter=-1, probability=False, random_state=None, shrinking=True,\n",
       "    tol=0.001, verbose=False)"
      ]
     },
     "execution_count": 155,
     "metadata": {},
     "output_type": "execute_result"
    }
   ],
   "source": [
    "breed_final_model = SVC()\n",
    "breed_final_model.fit(breed_final, y_breed_valid)"
   ]
  },
  {
   "cell_type": "code",
   "execution_count": 156,
   "metadata": {},
   "outputs": [],
   "source": [
    "breed_preds = np.column_stack([breed_gbt.predict(test_data[features].values),\n",
    "                           breed_bag.predict(test_data[features].values),\n",
    "                           breed_extra.predict(test_data[features].values),\n",
    "                           breed_rf.predict(test_data[features].values)])\n",
    "y_breed = final_model.predict(pet_preds)"
   ]
  },
  {
   "cell_type": "code",
   "execution_count": 157,
   "metadata": {},
   "outputs": [
    {
     "data": {
      "text/plain": [
       "array([[2., 0., 0., 0.],\n",
       "       [1., 1., 1., 1.],\n",
       "       [0., 0., 0., 0.],\n",
       "       ...,\n",
       "       [0., 1., 0., 1.],\n",
       "       [0., 0., 0., 1.],\n",
       "       [0., 0., 0., 1.]])"
      ]
     },
     "execution_count": 157,
     "metadata": {},
     "output_type": "execute_result"
    }
   ],
   "source": [
    "breed_preds"
   ]
  },
  {
   "cell_type": "code",
   "execution_count": 158,
   "metadata": {},
   "outputs": [
    {
     "data": {
      "text/plain": [
       "array([1, 1, 1, ..., 2, 2, 2], dtype=int64)"
      ]
     },
     "execution_count": 158,
     "metadata": {},
     "output_type": "execute_result"
    }
   ],
   "source": [
    "y_breed"
   ]
  },
  {
   "cell_type": "code",
   "execution_count": 159,
   "metadata": {},
   "outputs": [],
   "source": [
    "stacked = pd.DataFrame({'pet_id':test_data.index, 'breed_category':y_breed, 'pet_category':y_pet})"
   ]
  },
  {
   "cell_type": "code",
   "execution_count": 160,
   "metadata": {},
   "outputs": [],
   "source": [
    "stacked = stacked.set_index('pet_id', drop=True)"
   ]
  },
  {
   "cell_type": "code",
   "execution_count": 161,
   "metadata": {},
   "outputs": [],
   "source": [
    "stacked.to_csv(\"stacked.csv\")"
   ]
  },
  {
   "cell_type": "code",
   "execution_count": 162,
   "metadata": {},
   "outputs": [],
   "source": [
    "s = pd.read_csv('stacked.csv')"
   ]
  },
  {
   "cell_type": "code",
   "execution_count": 163,
   "metadata": {},
   "outputs": [
    {
     "data": {
      "text/html": [
       "<div>\n",
       "<style scoped>\n",
       "    .dataframe tbody tr th:only-of-type {\n",
       "        vertical-align: middle;\n",
       "    }\n",
       "\n",
       "    .dataframe tbody tr th {\n",
       "        vertical-align: top;\n",
       "    }\n",
       "\n",
       "    .dataframe thead th {\n",
       "        text-align: right;\n",
       "    }\n",
       "</style>\n",
       "<table border=\"1\" class=\"dataframe\">\n",
       "  <thead>\n",
       "    <tr style=\"text-align: right;\">\n",
       "      <th></th>\n",
       "      <th>pet_id</th>\n",
       "      <th>breed_category</th>\n",
       "      <th>pet_category</th>\n",
       "    </tr>\n",
       "  </thead>\n",
       "  <tbody>\n",
       "    <tr>\n",
       "      <th>0</th>\n",
       "      <td>ANSL_61962</td>\n",
       "      <td>1</td>\n",
       "      <td>1</td>\n",
       "    </tr>\n",
       "    <tr>\n",
       "      <th>1</th>\n",
       "      <td>ANSL_50526</td>\n",
       "      <td>1</td>\n",
       "      <td>1</td>\n",
       "    </tr>\n",
       "    <tr>\n",
       "      <th>2</th>\n",
       "      <td>ANSL_63393</td>\n",
       "      <td>1</td>\n",
       "      <td>1</td>\n",
       "    </tr>\n",
       "    <tr>\n",
       "      <th>3</th>\n",
       "      <td>ANSL_71049</td>\n",
       "      <td>2</td>\n",
       "      <td>2</td>\n",
       "    </tr>\n",
       "    <tr>\n",
       "      <th>4</th>\n",
       "      <td>ANSL_51808</td>\n",
       "      <td>2</td>\n",
       "      <td>2</td>\n",
       "    </tr>\n",
       "    <tr>\n",
       "      <th>...</th>\n",
       "      <td>...</td>\n",
       "      <td>...</td>\n",
       "      <td>...</td>\n",
       "    </tr>\n",
       "    <tr>\n",
       "      <th>8067</th>\n",
       "      <td>ANSL_76504</td>\n",
       "      <td>2</td>\n",
       "      <td>2</td>\n",
       "    </tr>\n",
       "    <tr>\n",
       "      <th>8068</th>\n",
       "      <td>ANSL_76510</td>\n",
       "      <td>2</td>\n",
       "      <td>2</td>\n",
       "    </tr>\n",
       "    <tr>\n",
       "      <th>8069</th>\n",
       "      <td>ANSL_76498</td>\n",
       "      <td>2</td>\n",
       "      <td>2</td>\n",
       "    </tr>\n",
       "    <tr>\n",
       "      <th>8070</th>\n",
       "      <td>ANSL_76497</td>\n",
       "      <td>2</td>\n",
       "      <td>2</td>\n",
       "    </tr>\n",
       "    <tr>\n",
       "      <th>8071</th>\n",
       "      <td>ANSL_76507</td>\n",
       "      <td>2</td>\n",
       "      <td>2</td>\n",
       "    </tr>\n",
       "  </tbody>\n",
       "</table>\n",
       "<p>8072 rows × 3 columns</p>\n",
       "</div>"
      ],
      "text/plain": [
       "          pet_id  breed_category  pet_category\n",
       "0     ANSL_61962               1             1\n",
       "1     ANSL_50526               1             1\n",
       "2     ANSL_63393               1             1\n",
       "3     ANSL_71049               2             2\n",
       "4     ANSL_51808               2             2\n",
       "...          ...             ...           ...\n",
       "8067  ANSL_76504               2             2\n",
       "8068  ANSL_76510               2             2\n",
       "8069  ANSL_76498               2             2\n",
       "8070  ANSL_76497               2             2\n",
       "8071  ANSL_76507               2             2\n",
       "\n",
       "[8072 rows x 3 columns]"
      ]
     },
     "execution_count": 163,
     "metadata": {},
     "output_type": "execute_result"
    }
   ],
   "source": [
    "s"
   ]
  },
  {
   "cell_type": "code",
   "execution_count": null,
   "metadata": {},
   "outputs": [],
   "source": []
  }
 ],
 "metadata": {
  "kernelspec": {
   "display_name": "Python 3",
   "language": "python",
   "name": "python3"
  },
  "language_info": {
   "codemirror_mode": {
    "name": "ipython",
    "version": 3
   },
   "file_extension": ".py",
   "mimetype": "text/x-python",
   "name": "python",
   "nbconvert_exporter": "python",
   "pygments_lexer": "ipython3",
   "version": "3.7.5"
  }
 },
 "nbformat": 4,
 "nbformat_minor": 4
}
