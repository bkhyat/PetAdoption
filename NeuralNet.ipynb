{
 "cells": [
  {
   "cell_type": "code",
   "execution_count": 1,
   "metadata": {},
   "outputs": [],
   "source": [
    "import pandas as pd\n",
    "import numpy as np\n",
    "import matplotlib.pyplot as plt\n",
    "import seaborn as sn\n",
    "%matplotlib inline\n",
    "\n",
    "train_data = pd.read_csv('Dataset/train.csv', index_col='pet_id')\n",
    "test_data = pd.read_csv('Dataset/test.csv', index_col='pet_id')\n",
    "\n",
    "\n",
    "\n",
    "from sklearn.preprocessing import LabelEncoder\n",
    "encoder = LabelEncoder()\n",
    "\n",
    "train_data['color_type_encoded'] = encoder.fit_transform(train_data.color_type)\n",
    "test_data['color_type_encoded'] = encoder.transform(test_data.color_type)\n",
    "\n",
    "\n",
    "np.random.seed(42)\n",
    "\n",
    "train_condition=np.random.choice(np.arange(0, 3), p=[6281/17357,6819/17357,4257/17357], size=1477)\n",
    "\n",
    "\n",
    "\n",
    "test_condition = np.random.choice(np.arange(0,3), p=[2685/7453,2928/7453,1840/7453], size=619)\n",
    "\n",
    "train_data['condition_filled'] = 0\n",
    "test_data['condition_filled'] = 0\n",
    "\n",
    "train_data.loc[train_data.condition.isnull(), 'condition_filled'] = 1\n",
    "test_data.loc[test_data.condition.isnull(), 'condition_filled'] = 1\n",
    "\n",
    "train_data.loc[train_data.condition.isnull(), 'condition'] = train_condition\n",
    "test_data.loc[test_data.condition.isnull(), 'condition'] = test_condition\n",
    "\n",
    "train_data['issue_date'] = pd.to_datetime(train_data.issue_date)\n",
    "train_data['listing_date'] = pd.to_datetime(train_data.listing_date)\n",
    "                                            \n",
    "test_data['issue_date'] = pd.to_datetime(test_data.issue_date)\n",
    "test_data['listing_date'] = pd.to_datetime(test_data.listing_date)\n",
    "\n",
    "train_data['issue_year'] = train_data.issue_date.dt.year\n",
    "train_data['issue_month'] = train_data.issue_date.dt.month\n",
    "train_data['issue_day'] = train_data.issue_date.dt.day\n",
    "\n",
    "train_data['listing_year'] = train_data.listing_date.dt.year\n",
    "train_data['listing_month'] = train_data.listing_date.dt.month\n",
    "train_data['listing_day'] = train_data.listing_date.dt.day\n",
    "\n",
    "test_data['issue_year'] = test_data.issue_date.dt.year\n",
    "test_data['issue_month'] = test_data.issue_date.dt.month\n",
    "test_data['issue_day'] = test_data.issue_date.dt.day\n",
    "\n",
    "test_data['listing_year'] = test_data.listing_date.dt.year\n",
    "test_data['listing_month'] = test_data.listing_date.dt.month\n",
    "test_data['listing_day'] = test_data.listing_date.dt.day\n",
    "\n",
    "train_data['total_days'] = np.array(train_data.listing_date-train_data.issue_date).astype('timedelta64[D]').astype('int64')\n",
    "test_data['total_days'] = np.array(test_data.listing_date-test_data.issue_date).astype('timedelta64[D]').astype('int64')\n",
    "\n",
    "train_data['length(cm)'] = train_data['length(m)']*100\n",
    "test_data['length(cm)'] = test_data['length(m)']*100\n",
    "\n",
    "train_data['rec_area'] = train_data['length(cm)'] * train_data['height(cm)']\n",
    "test_data['rec_area'] = test_data['length(cm)'] * test_data['height(cm)']"
   ]
  },
  {
   "cell_type": "code",
   "execution_count": 2,
   "metadata": {},
   "outputs": [],
   "source": [
    "features = ['condition', 'length(cm)', 'height(cm)','rec_area', 'X1', 'X2', 'color_type_encoded',\n",
    "           'issue_year', 'issue_month', 'issue_day', 'listing_year', 'listing_month', 'listing_day', 'total_days']"
   ]
  },
  {
   "cell_type": "code",
   "execution_count": 3,
   "metadata": {},
   "outputs": [],
   "source": [
    "from sklearn.preprocessing import normalize\n",
    "X = normalize(train_data[features])"
   ]
  },
  {
   "cell_type": "code",
   "execution_count": 59,
   "metadata": {},
   "outputs": [
    {
     "data": {
      "text/plain": [
       "array([6.84829819e-04, 2.73931928e-02, 2.66398800e-03, 2.13119040e-01,\n",
       "       4.45139383e-03, 3.08173419e-03, 6.16346837e-03, 6.90308458e-01,\n",
       "       2.39690437e-03, 3.42414910e-03, 6.90308458e-01, 3.08173419e-03,\n",
       "       7.19071310e-03, 2.49962884e-02])"
      ]
     },
     "execution_count": 59,
     "metadata": {},
     "output_type": "execute_result"
    }
   ],
   "source": [
    "X[0]"
   ]
  },
  {
   "cell_type": "code",
   "execution_count": 4,
   "metadata": {},
   "outputs": [],
   "source": [
    "y_pet = np.array(train_data['pet_category'])-1\n",
    "y_breed = np.array(train_data['breed_category'])"
   ]
  },
  {
   "cell_type": "code",
   "execution_count": 60,
   "metadata": {},
   "outputs": [
    {
     "data": {
      "text/html": [
       "<div>\n",
       "<style scoped>\n",
       "    .dataframe tbody tr th:only-of-type {\n",
       "        vertical-align: middle;\n",
       "    }\n",
       "\n",
       "    .dataframe tbody tr th {\n",
       "        vertical-align: top;\n",
       "    }\n",
       "\n",
       "    .dataframe thead th {\n",
       "        text-align: right;\n",
       "    }\n",
       "</style>\n",
       "<table border=\"1\" class=\"dataframe\">\n",
       "  <thead>\n",
       "    <tr style=\"text-align: right;\">\n",
       "      <th></th>\n",
       "      <th>issue_date</th>\n",
       "      <th>listing_date</th>\n",
       "      <th>condition</th>\n",
       "      <th>color_type</th>\n",
       "      <th>length(m)</th>\n",
       "      <th>height(cm)</th>\n",
       "      <th>X1</th>\n",
       "      <th>X2</th>\n",
       "      <th>breed_category</th>\n",
       "      <th>pet_category</th>\n",
       "      <th>...</th>\n",
       "      <th>condition_filled</th>\n",
       "      <th>issue_year</th>\n",
       "      <th>issue_month</th>\n",
       "      <th>issue_day</th>\n",
       "      <th>listing_year</th>\n",
       "      <th>listing_month</th>\n",
       "      <th>listing_day</th>\n",
       "      <th>total_days</th>\n",
       "      <th>length(cm)</th>\n",
       "      <th>rec_area</th>\n",
       "    </tr>\n",
       "    <tr>\n",
       "      <th>pet_id</th>\n",
       "      <th></th>\n",
       "      <th></th>\n",
       "      <th></th>\n",
       "      <th></th>\n",
       "      <th></th>\n",
       "      <th></th>\n",
       "      <th></th>\n",
       "      <th></th>\n",
       "      <th></th>\n",
       "      <th></th>\n",
       "      <th></th>\n",
       "      <th></th>\n",
       "      <th></th>\n",
       "      <th></th>\n",
       "      <th></th>\n",
       "      <th></th>\n",
       "      <th></th>\n",
       "      <th></th>\n",
       "      <th></th>\n",
       "      <th></th>\n",
       "      <th></th>\n",
       "    </tr>\n",
       "  </thead>\n",
       "  <tbody>\n",
       "    <tr>\n",
       "      <th>ANSL_69903</th>\n",
       "      <td>2016-07-10</td>\n",
       "      <td>2016-09-21 16:25:00</td>\n",
       "      <td>2.0</td>\n",
       "      <td>Brown Tabby</td>\n",
       "      <td>0.80</td>\n",
       "      <td>7.78</td>\n",
       "      <td>13</td>\n",
       "      <td>9</td>\n",
       "      <td>0.0</td>\n",
       "      <td>1</td>\n",
       "      <td>...</td>\n",
       "      <td>0</td>\n",
       "      <td>2016</td>\n",
       "      <td>7</td>\n",
       "      <td>10</td>\n",
       "      <td>2016</td>\n",
       "      <td>9</td>\n",
       "      <td>21</td>\n",
       "      <td>73</td>\n",
       "      <td>80.0</td>\n",
       "      <td>622.40</td>\n",
       "    </tr>\n",
       "    <tr>\n",
       "      <th>ANSL_66892</th>\n",
       "      <td>2013-11-21</td>\n",
       "      <td>2018-12-27 17:47:00</td>\n",
       "      <td>1.0</td>\n",
       "      <td>White</td>\n",
       "      <td>0.72</td>\n",
       "      <td>14.19</td>\n",
       "      <td>13</td>\n",
       "      <td>9</td>\n",
       "      <td>0.0</td>\n",
       "      <td>2</td>\n",
       "      <td>...</td>\n",
       "      <td>0</td>\n",
       "      <td>2013</td>\n",
       "      <td>11</td>\n",
       "      <td>21</td>\n",
       "      <td>2018</td>\n",
       "      <td>12</td>\n",
       "      <td>27</td>\n",
       "      <td>1862</td>\n",
       "      <td>72.0</td>\n",
       "      <td>1021.68</td>\n",
       "    </tr>\n",
       "    <tr>\n",
       "      <th>ANSL_69750</th>\n",
       "      <td>2014-09-28</td>\n",
       "      <td>2016-10-19 08:24:00</td>\n",
       "      <td>1.0</td>\n",
       "      <td>Brown</td>\n",
       "      <td>0.15</td>\n",
       "      <td>40.90</td>\n",
       "      <td>15</td>\n",
       "      <td>4</td>\n",
       "      <td>2.0</td>\n",
       "      <td>4</td>\n",
       "      <td>...</td>\n",
       "      <td>1</td>\n",
       "      <td>2014</td>\n",
       "      <td>9</td>\n",
       "      <td>28</td>\n",
       "      <td>2016</td>\n",
       "      <td>10</td>\n",
       "      <td>19</td>\n",
       "      <td>752</td>\n",
       "      <td>15.0</td>\n",
       "      <td>613.50</td>\n",
       "    </tr>\n",
       "    <tr>\n",
       "      <th>ANSL_71623</th>\n",
       "      <td>2016-12-31</td>\n",
       "      <td>2019-01-25 18:30:00</td>\n",
       "      <td>1.0</td>\n",
       "      <td>White</td>\n",
       "      <td>0.62</td>\n",
       "      <td>17.82</td>\n",
       "      <td>0</td>\n",
       "      <td>1</td>\n",
       "      <td>0.0</td>\n",
       "      <td>2</td>\n",
       "      <td>...</td>\n",
       "      <td>0</td>\n",
       "      <td>2016</td>\n",
       "      <td>12</td>\n",
       "      <td>31</td>\n",
       "      <td>2019</td>\n",
       "      <td>1</td>\n",
       "      <td>25</td>\n",
       "      <td>755</td>\n",
       "      <td>62.0</td>\n",
       "      <td>1104.84</td>\n",
       "    </tr>\n",
       "    <tr>\n",
       "      <th>ANSL_57969</th>\n",
       "      <td>2017-09-28</td>\n",
       "      <td>2017-11-19 09:38:00</td>\n",
       "      <td>2.0</td>\n",
       "      <td>Black</td>\n",
       "      <td>0.50</td>\n",
       "      <td>11.06</td>\n",
       "      <td>18</td>\n",
       "      <td>4</td>\n",
       "      <td>0.0</td>\n",
       "      <td>1</td>\n",
       "      <td>...</td>\n",
       "      <td>0</td>\n",
       "      <td>2017</td>\n",
       "      <td>9</td>\n",
       "      <td>28</td>\n",
       "      <td>2017</td>\n",
       "      <td>11</td>\n",
       "      <td>19</td>\n",
       "      <td>52</td>\n",
       "      <td>50.0</td>\n",
       "      <td>553.00</td>\n",
       "    </tr>\n",
       "  </tbody>\n",
       "</table>\n",
       "<p>5 rows × 21 columns</p>\n",
       "</div>"
      ],
      "text/plain": [
       "           issue_date        listing_date  condition   color_type  length(m)  \\\n",
       "pet_id                                                                         \n",
       "ANSL_69903 2016-07-10 2016-09-21 16:25:00        2.0  Brown Tabby       0.80   \n",
       "ANSL_66892 2013-11-21 2018-12-27 17:47:00        1.0        White       0.72   \n",
       "ANSL_69750 2014-09-28 2016-10-19 08:24:00        1.0        Brown       0.15   \n",
       "ANSL_71623 2016-12-31 2019-01-25 18:30:00        1.0        White       0.62   \n",
       "ANSL_57969 2017-09-28 2017-11-19 09:38:00        2.0        Black       0.50   \n",
       "\n",
       "            height(cm)  X1  X2  breed_category  pet_category  ...  \\\n",
       "pet_id                                                        ...   \n",
       "ANSL_69903        7.78  13   9             0.0             1  ...   \n",
       "ANSL_66892       14.19  13   9             0.0             2  ...   \n",
       "ANSL_69750       40.90  15   4             2.0             4  ...   \n",
       "ANSL_71623       17.82   0   1             0.0             2  ...   \n",
       "ANSL_57969       11.06  18   4             0.0             1  ...   \n",
       "\n",
       "            condition_filled  issue_year  issue_month  issue_day  \\\n",
       "pet_id                                                             \n",
       "ANSL_69903                 0        2016            7         10   \n",
       "ANSL_66892                 0        2013           11         21   \n",
       "ANSL_69750                 1        2014            9         28   \n",
       "ANSL_71623                 0        2016           12         31   \n",
       "ANSL_57969                 0        2017            9         28   \n",
       "\n",
       "            listing_year  listing_month  listing_day  total_days  length(cm)  \\\n",
       "pet_id                                                                         \n",
       "ANSL_69903          2016              9           21          73        80.0   \n",
       "ANSL_66892          2018             12           27        1862        72.0   \n",
       "ANSL_69750          2016             10           19         752        15.0   \n",
       "ANSL_71623          2019              1           25         755        62.0   \n",
       "ANSL_57969          2017             11           19          52        50.0   \n",
       "\n",
       "            rec_area  \n",
       "pet_id                \n",
       "ANSL_69903    622.40  \n",
       "ANSL_66892   1021.68  \n",
       "ANSL_69750    613.50  \n",
       "ANSL_71623   1104.84  \n",
       "ANSL_57969    553.00  \n",
       "\n",
       "[5 rows x 21 columns]"
      ]
     },
     "execution_count": 60,
     "metadata": {},
     "output_type": "execute_result"
    }
   ],
   "source": [
    "train_data.head()"
   ]
  },
  {
   "cell_type": "code",
   "execution_count": 7,
   "metadata": {},
   "outputs": [],
   "source": [
    "dummy_y = np_utils.to_categorical(y_pet)"
   ]
  },
  {
   "cell_type": "code",
   "execution_count": 6,
   "metadata": {},
   "outputs": [
    {
     "name": "stderr",
     "output_type": "stream",
     "text": [
      "Using TensorFlow backend.\n"
     ]
    }
   ],
   "source": [
    "from keras.models import Sequential\n",
    "from keras.layers import Dense, Dropout\n",
    "from keras.wrappers.scikit_learn import KerasClassifier\n",
    "from keras.utils import np_utils\n",
    "from sklearn.model_selection import cross_val_score\n",
    "from sklearn.model_selection import KFold\n",
    "from sklearn.pipeline import Pipeline"
   ]
  },
  {
   "cell_type": "code",
   "execution_count": 36,
   "metadata": {},
   "outputs": [],
   "source": [
    "def baseline_model(output_channels):\n",
    "    model = Sequential()\n",
    "    model.add(Dense(16, input_dim=14,activation='relu'))\n",
    "    model.add(Dense(32, input_dim=14,activation='relu'))\n",
    "    model.add(Dense(16, input_dim=14,activation='relu'))\n",
    "    model.add(Dense(output_channels, activation='softmax'))\n",
    "    \n",
    "    model.compile(loss='categorical_crossentropy', optimizer='adam', metrics=['accuracy'])\n",
    "    \n",
    "    \n",
    "    return model"
   ]
  },
  {
   "cell_type": "code",
   "execution_count": 37,
   "metadata": {},
   "outputs": [
    {
     "name": "stdout",
     "output_type": "stream",
     "text": [
      "Baseline:nan%(nan%)\n"
     ]
    }
   ],
   "source": [
    "estimator = KerasClassifier(build_fn=baseline_model(4), epochs=10, batch_size=20, verbose=0)\n",
    "kfold = KFold(n_splits=5, shuffle=True)\n",
    "results = cross_val_score(estimator,X, dummy_y, cv=kfold,)\n",
    "print(\"Baseline:%.2f%%(%.2f%%)\"%(results.mean()*100, results.std()*100))"
   ]
  },
  {
   "cell_type": "code",
   "execution_count": 14,
   "metadata": {},
   "outputs": [],
   "source": [
    "model = Sequential()\n",
    "model.add(Dense(128, input_dim=14,activation='relu'))\n",
    "model.add(Dense(64, input_dim=14,activation='relu'))\n",
    "model.add(Dropout(0.4))\n",
    "model.add(Dense(32, input_dim=14,activation='relu'))\n",
    "model.add(Dropout(0.2))\n",
    "model.add(Dense(4, activation='softmax'))    \n",
    "model.compile(loss='categorical_crossentropy', optimizer='adam', metrics=['accuracy'])"
   ]
  },
  {
   "cell_type": "code",
   "execution_count": 15,
   "metadata": {},
   "outputs": [],
   "source": [
    "EPOCH = 10"
   ]
  },
  {
   "cell_type": "code",
   "execution_count": null,
   "metadata": {
    "scrolled": true
   },
   "outputs": [],
   "source": [
    "history = model.fit(X, dummy_y, batch_size=8, epochs=EPOCH, verbose=0)"
   ]
  },
  {
   "cell_type": "code",
   "execution_count": null,
   "metadata": {},
   "outputs": [],
   "source": [
    "history.history"
   ]
  },
  {
   "cell_type": "code",
   "execution_count": 31,
   "metadata": {},
   "outputs": [
    {
     "data": {
      "text/plain": [
       "array([[0., 1., 0., 0., 0.],\n",
       "       [0., 0., 1., 0., 0.],\n",
       "       [0., 0., 0., 0., 1.],\n",
       "       ...,\n",
       "       [0., 1., 0., 0., 0.],\n",
       "       [0., 0., 1., 0., 0.],\n",
       "       [0., 0., 1., 0., 0.]], dtype=float32)"
      ]
     },
     "execution_count": 31,
     "metadata": {},
     "output_type": "execute_result"
    }
   ],
   "source": [
    "dummy_y"
   ]
  },
  {
   "cell_type": "code",
   "execution_count": 87,
   "metadata": {},
   "outputs": [
    {
     "data": {
      "text/plain": [
       "array([1, 0, 1, 0, 0, 0, 1, 0, 0, 3, 0, 0, 3, 1, 0, 1, 0, 1, 0, 1],\n",
       "      dtype=int64)"
      ]
     },
     "execution_count": 87,
     "metadata": {},
     "output_type": "execute_result"
    }
   ],
   "source": [
    "y_pet[100:120]"
   ]
  },
  {
   "cell_type": "code",
   "execution_count": 88,
   "metadata": {},
   "outputs": [
    {
     "data": {
      "text/plain": [
       "<keras.callbacks.callbacks.History at 0x27e2315f848>"
      ]
     },
     "execution_count": 88,
     "metadata": {},
     "output_type": "execute_result"
    }
   ],
   "source": [
    "history"
   ]
  },
  {
   "cell_type": "code",
   "execution_count": 91,
   "metadata": {},
   "outputs": [
    {
     "data": {
      "text/plain": [
       "{'loss': [0.6663735049715515], 'accuracy': [0.71482426]}"
      ]
     },
     "execution_count": 91,
     "metadata": {},
     "output_type": "execute_result"
    }
   ],
   "source": [
    "history.history"
   ]
  },
  {
   "cell_type": "code",
   "execution_count": null,
   "metadata": {},
   "outputs": [],
   "source": []
  }
 ],
 "metadata": {
  "kernelspec": {
   "display_name": "Python 3",
   "language": "python",
   "name": "python3"
  },
  "language_info": {
   "codemirror_mode": {
    "name": "ipython",
    "version": 3
   },
   "file_extension": ".py",
   "mimetype": "text/x-python",
   "name": "python",
   "nbconvert_exporter": "python",
   "pygments_lexer": "ipython3",
   "version": "3.7.5"
  }
 },
 "nbformat": 4,
 "nbformat_minor": 4
}
