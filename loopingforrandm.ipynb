{
 "cells": [
  {
   "cell_type": "code",
   "execution_count": 1,
   "metadata": {},
   "outputs": [],
   "source": [
    "import pandas as pd\n",
    "import numpy as np\n",
    "import matplotlib.pyplot as plt\n",
    "import seaborn as sn\n",
    "%matplotlib inline\n",
    "\n",
    "train_data = pd.read_csv('Dataset/train.csv', index_col='pet_id')\n",
    "test_data = pd.read_csv('Dataset/test.csv', index_col='pet_id')\n",
    "\n",
    "\n",
    "\n",
    "from sklearn.preprocessing import LabelEncoder\n",
    "encoder = LabelEncoder()\n",
    "\n",
    "train_data['color_type_encoded'] = encoder.fit_transform(train_data.color_type)\n",
    "test_data['color_type_encoded'] = encoder.transform(test_data.color_type)\n",
    "\n",
    "\n",
    "train_data['issue_date'] = pd.to_datetime(train_data.issue_date)\n",
    "train_data['listing_date'] = pd.to_datetime(train_data.listing_date)\n",
    "                                            \n",
    "test_data['issue_date'] = pd.to_datetime(test_data.issue_date)\n",
    "test_data['listing_date'] = pd.to_datetime(test_data.listing_date)\n",
    "\n",
    "train_data['issue_year'] = train_data.issue_date.dt.year\n",
    "train_data['issue_month'] = train_data.issue_date.dt.month\n",
    "train_data['issue_day'] = train_data.issue_date.dt.day\n",
    "\n",
    "train_data['listing_year'] = train_data.listing_date.dt.year\n",
    "train_data['listing_month'] = train_data.listing_date.dt.month\n",
    "train_data['listing_day'] = train_data.listing_date.dt.day\n",
    "\n",
    "test_data['issue_year'] = test_data.issue_date.dt.year\n",
    "test_data['issue_month'] = test_data.issue_date.dt.month\n",
    "test_data['issue_day'] = test_data.issue_date.dt.day\n",
    "\n",
    "test_data['listing_year'] = test_data.listing_date.dt.year\n",
    "test_data['listing_month'] = test_data.listing_date.dt.month\n",
    "test_data['listing_day'] = test_data.listing_date.dt.day\n",
    "\n",
    "train_data['total_days'] = np.array(train_data.listing_date-train_data.issue_date).astype('timedelta64[D]').astype('int64')\n",
    "test_data['total_days'] = np.array(test_data.listing_date-test_data.issue_date).astype('timedelta64[D]').astype('int64')\n",
    "\n",
    "train_data['length(cm)'] = train_data['length(m)']*100\n",
    "test_data['length(cm)'] = test_data['length(m)']*100\n",
    "\n",
    "train_data['rec_area'] = train_data['length(cm)'] * train_data['height(cm)']\n",
    "test_data['rec_area'] = test_data['length(cm)'] * test_data['height(cm)']"
   ]
  },
  {
   "cell_type": "code",
   "execution_count": 11,
   "metadata": {},
   "outputs": [
    {
     "data": {
      "text/plain": [
       "'\"2 2 1 2 0 1 0 0 1 1 1 1 1 0 1 0 0 1 1 1 1 1 2 1 1 0 0 1 1 1 1 1 2 2 1 2 0\\n 0 0 1 2 0 2 0 2 0 0 1 0 0 0 2 1 0 1 1 0 1 0 0 1 0 1 1 0 1 0 2 1 2 1 0 1 2\\n 1 2 2 0 0 1 1 2 2 0 0 2 0 2 1 1 0 1 1 1 0 1 2 0 0 0 1 1 1 0 1 1 1 2 0 1 1\\n 1 1 1 2 0 0 1 1 0 0 0 2 0 0 0 0 0 1 0 2 0 1 2 1 1 0 0 1 2 1 1 1 1 0 1 2 0\\n 1 0 1 0 1 2 0 1 2 2 0 1 0 2 2 1 2 1 1 0 2 0 2 2 1 0 0 0 0 0 2 1 0 1 1 1 1\\n 2 1 2 2 0 2 0 2 1 2 2 2 2 0 0 1 0 1 0 2 1 2 0 2 2 1 1 2 0 1 1 0 1 0 0 0 2\\n 1 2 1 0 1 1 0 1 0 1 1 0 0 2 1 0 2 0 1 2 0 0 0 0 0 1 0 1 2 2 1 0 1 1 1 0 2\\n 1 0 1 1 2 1 2 0 1 1 0 0 2 0 1 0 0 0 2 2 2 1 0 1 1 2 0 1 0 0 1 1 1 1 1 2 2\\n 2 2 0 1 1 0 2 0 2 1 1 1 2 1 1 0 1 0 1 1 1 0 0 1 0 0 0 2 1 0 0 0 2 1 0 0 0\\n 1 2 0 0 0 2 0 2 1 1 0 0 1 2 1 1 0 2 2 0 2 1 1 1 2 1 0 0 2 0 1 1 1 1 2 0 0\\n 0 2 1 0 2 2 2 2 0 2 1 2 1 2 1 0 1 2 2 0 0 0 1 2 0 1 2 1 1 1 1 0 1 1 2 1 2\\n 0 1 0 0 1 2 0 1 2 0 1 1 1 0 0 2 1 0 2 0 1 0 2 1 0 0 0 2 2 1 1 1 2 1 1 1 1\\n 0 1 0 2 0 1 1 1 0 1 1 1 1 1 2 0 2 1 0 0 0 2 1 2 1 1 0 0 1 0 0 1 1 2 2 1 1\\n 1 2 0 1 2 1 1 1 0 1 0 0 0 2 0 1 0 2 0 1 2 2 0 2 1 1 0 0 1 1 1 1 2 0 1 0 1\\n 1 2 0 0 0 0 0 2 0 0 2 1 2 0 1 0 0 2 0 1 1 0 2 0 1 2 1 2 0 1 0 1 2 0 1 0 1\\n 1 2 1 0 0 0 0 0 2 1 1 0 2 1 0 1 1 0 1 1 0 2 2 1 1 1 1 1 0 1 2 1 0 2 0 0 0\\n 0 2 1 0 2 2 2 0 1 2 2 0 0 1 2 1 1 0 1 2 1 2 2 0 1 0 2\"'"
      ]
     },
     "execution_count": 11,
     "metadata": {},
     "output_type": "execute_result"
    }
   ],
   "source": [
    "import random\n",
    "np.random.seed(100)\n",
    "random.seed(50)\n",
    "train_condition=np.random.choice(np.arange(0, 3), p=[6281/17357,6819/17357,4257/17357], size=1477)\n",
    "test_condition = np.random.choice(np.arange(0,3), p=[2685/7453,2928/7453,1840/7453], size=619)\n",
    "test_condition\n",
    "\n",
    "'''\"2 2 1 2 0 1 0 0 1 1 1 1 1 0 1 0 0 1 1 1 1 1 2 1 1 0 0 1 1 1 1 1 2 2 1 2 0\n",
    " 0 0 1 2 0 2 0 2 0 0 1 0 0 0 2 1 0 1 1 0 1 0 0 1 0 1 1 0 1 0 2 1 2 1 0 1 2\n",
    " 1 2 2 0 0 1 1 2 2 0 0 2 0 2 1 1 0 1 1 1 0 1 2 0 0 0 1 1 1 0 1 1 1 2 0 1 1\n",
    " 1 1 1 2 0 0 1 1 0 0 0 2 0 0 0 0 0 1 0 2 0 1 2 1 1 0 0 1 2 1 1 1 1 0 1 2 0\n",
    " 1 0 1 0 1 2 0 1 2 2 0 1 0 2 2 1 2 1 1 0 2 0 2 2 1 0 0 0 0 0 2 1 0 1 1 1 1\n",
    " 2 1 2 2 0 2 0 2 1 2 2 2 2 0 0 1 0 1 0 2 1 2 0 2 2 1 1 2 0 1 1 0 1 0 0 0 2\n",
    " 1 2 1 0 1 1 0 1 0 1 1 0 0 2 1 0 2 0 1 2 0 0 0 0 0 1 0 1 2 2 1 0 1 1 1 0 2\n",
    " 1 0 1 1 2 1 2 0 1 1 0 0 2 0 1 0 0 0 2 2 2 1 0 1 1 2 0 1 0 0 1 1 1 1 1 2 2\n",
    " 2 2 0 1 1 0 2 0 2 1 1 1 2 1 1 0 1 0 1 1 1 0 0 1 0 0 0 2 1 0 0 0 2 1 0 0 0\n",
    " 1 2 0 0 0 2 0 2 1 1 0 0 1 2 1 1 0 2 2 0 2 1 1 1 2 1 0 0 2 0 1 1 1 1 2 0 0\n",
    " 0 2 1 0 2 2 2 2 0 2 1 2 1 2 1 0 1 2 2 0 0 0 1 2 0 1 2 1 1 1 1 0 1 1 2 1 2\n",
    " 0 1 0 0 1 2 0 1 2 0 1 1 1 0 0 2 1 0 2 0 1 0 2 1 0 0 0 2 2 1 1 1 2 1 1 1 1\n",
    " 0 1 0 2 0 1 1 1 0 1 1 1 1 1 2 0 2 1 0 0 0 2 1 2 1 1 0 0 1 0 0 1 1 2 2 1 1\n",
    " 1 2 0 1 2 1 1 1 0 1 0 0 0 2 0 1 0 2 0 1 2 2 0 2 1 1 0 0 1 1 1 1 2 0 1 0 1\n",
    " 1 2 0 0 0 0 0 2 0 0 2 1 2 0 1 0 0 2 0 1 1 0 2 0 1 2 1 2 0 1 0 1 2 0 1 0 1\n",
    " 1 2 1 0 0 0 0 0 2 1 1 0 2 1 0 1 1 0 1 1 0 2 2 1 1 1 1 1 0 1 2 1 0 2 0 0 0\n",
    " 0 2 1 0 2 2 2 0 1 2 2 0 0 1 2 1 1 0 1 2 1 2 2 0 1 0 2\"'''"
   ]
  },
  {
   "cell_type": "code",
   "execution_count": null,
   "metadata": {},
   "outputs": [],
   "source": [
    "train_data['condition_filled'] = 0\n",
    "test_data['condition_filled'] = 0\n",
    "\n",
    "train_data.loc[train_data.condition.isnull(), 'condition_filled'] = 1\n",
    "test_data.loc[test_data.condition.isnull(), 'condition_filled'] = 1\n",
    "\n",
    "train_data.loc[train_data.condition.isnull(), 'condition'] = train_condition\n",
    "test_data.loc[test_data.condition.isnull(), 'condition'] = test_condition"
   ]
  }
 ],
 "metadata": {
  "kernelspec": {
   "display_name": "Python 3",
   "language": "python",
   "name": "python3"
  },
  "language_info": {
   "codemirror_mode": {
    "name": "ipython",
    "version": 3
   },
   "file_extension": ".py",
   "mimetype": "text/x-python",
   "name": "python",
   "nbconvert_exporter": "python",
   "pygments_lexer": "ipython3",
   "version": "3.7.5"
  }
 },
 "nbformat": 4,
 "nbformat_minor": 4
}
